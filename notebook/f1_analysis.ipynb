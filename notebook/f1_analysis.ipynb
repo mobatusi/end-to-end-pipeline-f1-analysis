{
 "cells": [
  {
   "cell_type": "markdown",
   "metadata": {},
   "source": [
    "# Imports"
   ]
  },
  {
   "cell_type": "code",
   "execution_count": 1,
   "metadata": {},
   "outputs": [],
   "source": [
    "import json"
   ]
  },
  {
   "cell_type": "markdown",
   "metadata": {},
   "source": [
    "# Load the config from the JSON file"
   ]
  },
  {
   "cell_type": "code",
   "execution_count": 2,
   "metadata": {},
   "outputs": [],
   "source": [
    "with open('../config.json', 'r') as config_file:\n",
    "    config = json.load(config_file)\n",
    "\n",
    "# Access the parameters from the config\n",
    "mybucket = config[\"mybucket\"]\n",
    "environment = config[\"my-composer-environment\"]\n",
    "location = config[\"location\"]\n",
    "dataset_id = config['dataset_id']\n",
    "service_account_path = config['service_account_path']"
   ]
  },
  {
   "cell_type": "markdown",
   "metadata": {},
   "source": [
    "# Ingest Source Data into BigQuery"
   ]
  },
  {
   "cell_type": "markdown",
   "metadata": {},
   "source": [
    "## Create Composer Environment"
   ]
  },
  {
   "cell_type": "code",
   "execution_count": null,
   "metadata": {},
   "outputs": [],
   "source": [
    "!gcloud composer environments create {environment}\\\n",
    "    --location {location}"
   ]
  },
  {
   "cell_type": "markdown",
   "metadata": {},
   "source": [
    "## Set environment variables for existing environments"
   ]
  },
  {
   "cell_type": "code",
   "execution_count": 7,
   "metadata": {},
   "outputs": [
    {
     "name": "stdout",
     "output_type": "stream",
     "text": [
      "Waiting for [projects/dolu-sandbox-408209/locations/us-central1/environments/f1\n",
      "-analysis] to be updated with [projects/dolu-sandbox-408209/locations/us-centra\n",
      "l1/operations/5bae6716-52af-4479-8e38-7ffc0e91feba]...⠏                        "
     ]
    }
   ],
   "source": [
    "!gcloud composer environments update \\\n",
    "  {environment} \\\n",
    "  --location {location} \\\n",
    "  --update-env-variables=dataset_id={dataset_id}"
   ]
  },
  {
   "cell_type": "markdown",
   "metadata": {},
   "source": [
    "## Load SQL script to the composer environment"
   ]
  },
  {
   "cell_type": "code",
   "execution_count": 14,
   "metadata": {},
   "outputs": [
    {
     "name": "stdout",
     "output_type": "stream",
     "text": [
      "If you experience problems with multiprocessing on MacOS, they might be related to https://bugs.python.org/issue33725. You can disable multiprocessing by editing your .boto config or by adding the following flag to your command: `-o \"GSUtil:parallel_process_count=1\"`. Note that multithreading is still available even if you disable multiprocessing.\n",
      "\n",
      "Copying file://../sql/f1_analysis.sql [Content-Type=application/x-sql]...\n",
      "/ [1/1 files][  1.8 KiB/  1.8 KiB] 100% Done                                    \n",
      "Operation completed over 1 objects/1.8 KiB.                                      \n"
     ]
    }
   ],
   "source": [
    "!gsutil -m cp -r ../sql/f1_analysis.sql gs://{mybucket}/sql/"
   ]
  },
  {
   "cell_type": "markdown",
   "metadata": {},
   "source": [
    "## Load data to data folder in composer environment"
   ]
  },
  {
   "cell_type": "code",
   "execution_count": null,
   "metadata": {},
   "outputs": [],
   "source": [
    "!gsutil -m cp -r ../data/* gs://{mybucket}/data/"
   ]
  },
  {
   "cell_type": "markdown",
   "metadata": {},
   "source": [
    "## Load Config file to the composer environment"
   ]
  },
  {
   "cell_type": "code",
   "execution_count": 48,
   "metadata": {},
   "outputs": [
    {
     "name": "stdout",
     "output_type": "stream",
     "text": [
      "If you experience problems with multiprocessing on MacOS, they might be related to https://bugs.python.org/issue33725. You can disable multiprocessing by editing your .boto config or by adding the following flag to your command: `-o \"GSUtil:parallel_process_count=1\"`. Note that multithreading is still available even if you disable multiprocessing.\n",
      "\n",
      "Copying file://../config.json [Content-Type=application/json]...\n",
      "- [1/1 files][  109.0 B/  109.0 B] 100% Done                                    \n",
      "Operation completed over 1 objects/109.0 B.                                      \n"
     ]
    }
   ],
   "source": [
    "!gsutil -m cp ../config.json gs://{mybucket}/"
   ]
  },
  {
   "cell_type": "markdown",
   "metadata": {},
   "source": [
    "## Load python file into DAG folder in composer environment"
   ]
  },
  {
   "cell_type": "code",
   "execution_count": 12,
   "metadata": {},
   "outputs": [
    {
     "name": "stdout",
     "output_type": "stream",
     "text": [
      "Copying file://../dags/f1_analysis.py [Content-Type=text/x-python]...\n",
      "/ [1 files][  2.2 KiB/  2.2 KiB]                                                \n",
      "Operation completed over 1 objects/2.2 KiB.                                      \n"
     ]
    }
   ],
   "source": [
    "# upload your DAG file to the /dags directory of your environment's bucket\n",
    "!gsutil cp ../dags/f1_analysis.py gs://{mybucket}/dags"
   ]
  }
 ],
 "metadata": {
  "kernelspec": {
   "display_name": "mlops",
   "language": "python",
   "name": "python3"
  },
  "language_info": {
   "codemirror_mode": {
    "name": "ipython",
    "version": 3
   },
   "file_extension": ".py",
   "mimetype": "text/x-python",
   "name": "python",
   "nbconvert_exporter": "python",
   "pygments_lexer": "ipython3",
   "version": "3.10.14"
  }
 },
 "nbformat": 4,
 "nbformat_minor": 2
}
